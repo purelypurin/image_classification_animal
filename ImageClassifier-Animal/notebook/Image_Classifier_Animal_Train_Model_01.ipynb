{
 "cells": [
  {
   "cell_type": "markdown",
   "metadata": {},
   "source": [
    "# Data split train test\n",
    "Module"
   ]
  },
  {
   "cell_type": "code",
   "execution_count": 1,
   "metadata": {},
   "outputs": [
    {
     "name": "stdout",
     "output_type": "stream",
     "text": [
      "WARNING:tensorflow:From c:\\Users\\purin\\AppData\\Local\\Programs\\Python\\Python310\\lib\\site-packages\\keras\\src\\losses.py:2976: The name tf.losses.sparse_softmax_cross_entropy is deprecated. Please use tf.compat.v1.losses.sparse_softmax_cross_entropy instead.\n",
      "\n"
     ]
    }
   ],
   "source": [
    "import os\n",
    "import numpy as np\n",
    "import pandas as pd\n",
    "from tensorflow.keras.preprocessing.image import ImageDataGenerator\n",
    "from tensorflow.keras.models import Sequential\n",
    "from tensorflow.keras.layers import Conv2D, MaxPooling2D, Flatten, Dense, Dropout\n",
    "from sklearn.model_selection import train_test_split\n",
    "import glob\n",
    "from typing import List, Tuple\n",
    "from sklearn.utils import shuffle"
   ]
  },
  {
   "cell_type": "code",
   "execution_count": 9,
   "metadata": {},
   "outputs": [
    {
     "name": "stdout",
     "output_type": "stream",
     "text": [
      "['C:\\\\Users\\\\purin\\\\Desktop\\\\ImageClassifier-Animal\\\\ImageClassifier-Animal\\\\data\\\\animal_dataset\\\\animals\\\\animals\\\\antelope', 'C:\\\\Users\\\\purin\\\\Desktop\\\\ImageClassifier-Animal\\\\ImageClassifier-Animal\\\\data\\\\animal_dataset\\\\animals\\\\animals\\\\badger', 'C:\\\\Users\\\\purin\\\\Desktop\\\\ImageClassifier-Animal\\\\ImageClassifier-Animal\\\\data\\\\animal_dataset\\\\animals\\\\animals\\\\bat', 'C:\\\\Users\\\\purin\\\\Desktop\\\\ImageClassifier-Animal\\\\ImageClassifier-Animal\\\\data\\\\animal_dataset\\\\animals\\\\animals\\\\bear', 'C:\\\\Users\\\\purin\\\\Desktop\\\\ImageClassifier-Animal\\\\ImageClassifier-Animal\\\\data\\\\animal_dataset\\\\animals\\\\animals\\\\bee', 'C:\\\\Users\\\\purin\\\\Desktop\\\\ImageClassifier-Animal\\\\ImageClassifier-Animal\\\\data\\\\animal_dataset\\\\animals\\\\animals\\\\beetle', 'C:\\\\Users\\\\purin\\\\Desktop\\\\ImageClassifier-Animal\\\\ImageClassifier-Animal\\\\data\\\\animal_dataset\\\\animals\\\\animals\\\\bison', 'C:\\\\Users\\\\purin\\\\Desktop\\\\ImageClassifier-Animal\\\\ImageClassifier-Animal\\\\data\\\\animal_dataset\\\\animals\\\\animals\\\\boar', 'C:\\\\Users\\\\purin\\\\Desktop\\\\ImageClassifier-Animal\\\\ImageClassifier-Animal\\\\data\\\\animal_dataset\\\\animals\\\\animals\\\\butterfly', 'C:\\\\Users\\\\purin\\\\Desktop\\\\ImageClassifier-Animal\\\\ImageClassifier-Animal\\\\data\\\\animal_dataset\\\\animals\\\\animals\\\\cat', 'C:\\\\Users\\\\purin\\\\Desktop\\\\ImageClassifier-Animal\\\\ImageClassifier-Animal\\\\data\\\\animal_dataset\\\\animals\\\\animals\\\\caterpillar', 'C:\\\\Users\\\\purin\\\\Desktop\\\\ImageClassifier-Animal\\\\ImageClassifier-Animal\\\\data\\\\animal_dataset\\\\animals\\\\animals\\\\chimpanzee', 'C:\\\\Users\\\\purin\\\\Desktop\\\\ImageClassifier-Animal\\\\ImageClassifier-Animal\\\\data\\\\animal_dataset\\\\animals\\\\animals\\\\cockroach', 'C:\\\\Users\\\\purin\\\\Desktop\\\\ImageClassifier-Animal\\\\ImageClassifier-Animal\\\\data\\\\animal_dataset\\\\animals\\\\animals\\\\cow', 'C:\\\\Users\\\\purin\\\\Desktop\\\\ImageClassifier-Animal\\\\ImageClassifier-Animal\\\\data\\\\animal_dataset\\\\animals\\\\animals\\\\coyote', 'C:\\\\Users\\\\purin\\\\Desktop\\\\ImageClassifier-Animal\\\\ImageClassifier-Animal\\\\data\\\\animal_dataset\\\\animals\\\\animals\\\\crab', 'C:\\\\Users\\\\purin\\\\Desktop\\\\ImageClassifier-Animal\\\\ImageClassifier-Animal\\\\data\\\\animal_dataset\\\\animals\\\\animals\\\\crow', 'C:\\\\Users\\\\purin\\\\Desktop\\\\ImageClassifier-Animal\\\\ImageClassifier-Animal\\\\data\\\\animal_dataset\\\\animals\\\\animals\\\\deer', 'C:\\\\Users\\\\purin\\\\Desktop\\\\ImageClassifier-Animal\\\\ImageClassifier-Animal\\\\data\\\\animal_dataset\\\\animals\\\\animals\\\\dog', 'C:\\\\Users\\\\purin\\\\Desktop\\\\ImageClassifier-Animal\\\\ImageClassifier-Animal\\\\data\\\\animal_dataset\\\\animals\\\\animals\\\\dolphin', 'C:\\\\Users\\\\purin\\\\Desktop\\\\ImageClassifier-Animal\\\\ImageClassifier-Animal\\\\data\\\\animal_dataset\\\\animals\\\\animals\\\\donkey', 'C:\\\\Users\\\\purin\\\\Desktop\\\\ImageClassifier-Animal\\\\ImageClassifier-Animal\\\\data\\\\animal_dataset\\\\animals\\\\animals\\\\dragonfly', 'C:\\\\Users\\\\purin\\\\Desktop\\\\ImageClassifier-Animal\\\\ImageClassifier-Animal\\\\data\\\\animal_dataset\\\\animals\\\\animals\\\\duck', 'C:\\\\Users\\\\purin\\\\Desktop\\\\ImageClassifier-Animal\\\\ImageClassifier-Animal\\\\data\\\\animal_dataset\\\\animals\\\\animals\\\\eagle', 'C:\\\\Users\\\\purin\\\\Desktop\\\\ImageClassifier-Animal\\\\ImageClassifier-Animal\\\\data\\\\animal_dataset\\\\animals\\\\animals\\\\elephant', 'C:\\\\Users\\\\purin\\\\Desktop\\\\ImageClassifier-Animal\\\\ImageClassifier-Animal\\\\data\\\\animal_dataset\\\\animals\\\\animals\\\\flamingo', 'C:\\\\Users\\\\purin\\\\Desktop\\\\ImageClassifier-Animal\\\\ImageClassifier-Animal\\\\data\\\\animal_dataset\\\\animals\\\\animals\\\\fly', 'C:\\\\Users\\\\purin\\\\Desktop\\\\ImageClassifier-Animal\\\\ImageClassifier-Animal\\\\data\\\\animal_dataset\\\\animals\\\\animals\\\\fox', 'C:\\\\Users\\\\purin\\\\Desktop\\\\ImageClassifier-Animal\\\\ImageClassifier-Animal\\\\data\\\\animal_dataset\\\\animals\\\\animals\\\\goat', 'C:\\\\Users\\\\purin\\\\Desktop\\\\ImageClassifier-Animal\\\\ImageClassifier-Animal\\\\data\\\\animal_dataset\\\\animals\\\\animals\\\\goldfish', 'C:\\\\Users\\\\purin\\\\Desktop\\\\ImageClassifier-Animal\\\\ImageClassifier-Animal\\\\data\\\\animal_dataset\\\\animals\\\\animals\\\\goose', 'C:\\\\Users\\\\purin\\\\Desktop\\\\ImageClassifier-Animal\\\\ImageClassifier-Animal\\\\data\\\\animal_dataset\\\\animals\\\\animals\\\\gorilla', 'C:\\\\Users\\\\purin\\\\Desktop\\\\ImageClassifier-Animal\\\\ImageClassifier-Animal\\\\data\\\\animal_dataset\\\\animals\\\\animals\\\\grasshopper', 'C:\\\\Users\\\\purin\\\\Desktop\\\\ImageClassifier-Animal\\\\ImageClassifier-Animal\\\\data\\\\animal_dataset\\\\animals\\\\animals\\\\hamster', 'C:\\\\Users\\\\purin\\\\Desktop\\\\ImageClassifier-Animal\\\\ImageClassifier-Animal\\\\data\\\\animal_dataset\\\\animals\\\\animals\\\\hare', 'C:\\\\Users\\\\purin\\\\Desktop\\\\ImageClassifier-Animal\\\\ImageClassifier-Animal\\\\data\\\\animal_dataset\\\\animals\\\\animals\\\\hedgehog', 'C:\\\\Users\\\\purin\\\\Desktop\\\\ImageClassifier-Animal\\\\ImageClassifier-Animal\\\\data\\\\animal_dataset\\\\animals\\\\animals\\\\hippopotamus', 'C:\\\\Users\\\\purin\\\\Desktop\\\\ImageClassifier-Animal\\\\ImageClassifier-Animal\\\\data\\\\animal_dataset\\\\animals\\\\animals\\\\hornbill', 'C:\\\\Users\\\\purin\\\\Desktop\\\\ImageClassifier-Animal\\\\ImageClassifier-Animal\\\\data\\\\animal_dataset\\\\animals\\\\animals\\\\horse', 'C:\\\\Users\\\\purin\\\\Desktop\\\\ImageClassifier-Animal\\\\ImageClassifier-Animal\\\\data\\\\animal_dataset\\\\animals\\\\animals\\\\hummingbird', 'C:\\\\Users\\\\purin\\\\Desktop\\\\ImageClassifier-Animal\\\\ImageClassifier-Animal\\\\data\\\\animal_dataset\\\\animals\\\\animals\\\\hyena', 'C:\\\\Users\\\\purin\\\\Desktop\\\\ImageClassifier-Animal\\\\ImageClassifier-Animal\\\\data\\\\animal_dataset\\\\animals\\\\animals\\\\jellyfish', 'C:\\\\Users\\\\purin\\\\Desktop\\\\ImageClassifier-Animal\\\\ImageClassifier-Animal\\\\data\\\\animal_dataset\\\\animals\\\\animals\\\\kangaroo', 'C:\\\\Users\\\\purin\\\\Desktop\\\\ImageClassifier-Animal\\\\ImageClassifier-Animal\\\\data\\\\animal_dataset\\\\animals\\\\animals\\\\koala', 'C:\\\\Users\\\\purin\\\\Desktop\\\\ImageClassifier-Animal\\\\ImageClassifier-Animal\\\\data\\\\animal_dataset\\\\animals\\\\animals\\\\ladybugs', 'C:\\\\Users\\\\purin\\\\Desktop\\\\ImageClassifier-Animal\\\\ImageClassifier-Animal\\\\data\\\\animal_dataset\\\\animals\\\\animals\\\\leopard', 'C:\\\\Users\\\\purin\\\\Desktop\\\\ImageClassifier-Animal\\\\ImageClassifier-Animal\\\\data\\\\animal_dataset\\\\animals\\\\animals\\\\lion', 'C:\\\\Users\\\\purin\\\\Desktop\\\\ImageClassifier-Animal\\\\ImageClassifier-Animal\\\\data\\\\animal_dataset\\\\animals\\\\animals\\\\lizard', 'C:\\\\Users\\\\purin\\\\Desktop\\\\ImageClassifier-Animal\\\\ImageClassifier-Animal\\\\data\\\\animal_dataset\\\\animals\\\\animals\\\\lobster', 'C:\\\\Users\\\\purin\\\\Desktop\\\\ImageClassifier-Animal\\\\ImageClassifier-Animal\\\\data\\\\animal_dataset\\\\animals\\\\animals\\\\mosquito', 'C:\\\\Users\\\\purin\\\\Desktop\\\\ImageClassifier-Animal\\\\ImageClassifier-Animal\\\\data\\\\animal_dataset\\\\animals\\\\animals\\\\moth', 'C:\\\\Users\\\\purin\\\\Desktop\\\\ImageClassifier-Animal\\\\ImageClassifier-Animal\\\\data\\\\animal_dataset\\\\animals\\\\animals\\\\mouse', 'C:\\\\Users\\\\purin\\\\Desktop\\\\ImageClassifier-Animal\\\\ImageClassifier-Animal\\\\data\\\\animal_dataset\\\\animals\\\\animals\\\\octopus', 'C:\\\\Users\\\\purin\\\\Desktop\\\\ImageClassifier-Animal\\\\ImageClassifier-Animal\\\\data\\\\animal_dataset\\\\animals\\\\animals\\\\okapi', 'C:\\\\Users\\\\purin\\\\Desktop\\\\ImageClassifier-Animal\\\\ImageClassifier-Animal\\\\data\\\\animal_dataset\\\\animals\\\\animals\\\\orangutan', 'C:\\\\Users\\\\purin\\\\Desktop\\\\ImageClassifier-Animal\\\\ImageClassifier-Animal\\\\data\\\\animal_dataset\\\\animals\\\\animals\\\\otter', 'C:\\\\Users\\\\purin\\\\Desktop\\\\ImageClassifier-Animal\\\\ImageClassifier-Animal\\\\data\\\\animal_dataset\\\\animals\\\\animals\\\\owl', 'C:\\\\Users\\\\purin\\\\Desktop\\\\ImageClassifier-Animal\\\\ImageClassifier-Animal\\\\data\\\\animal_dataset\\\\animals\\\\animals\\\\ox', 'C:\\\\Users\\\\purin\\\\Desktop\\\\ImageClassifier-Animal\\\\ImageClassifier-Animal\\\\data\\\\animal_dataset\\\\animals\\\\animals\\\\oyster', 'C:\\\\Users\\\\purin\\\\Desktop\\\\ImageClassifier-Animal\\\\ImageClassifier-Animal\\\\data\\\\animal_dataset\\\\animals\\\\animals\\\\panda', 'C:\\\\Users\\\\purin\\\\Desktop\\\\ImageClassifier-Animal\\\\ImageClassifier-Animal\\\\data\\\\animal_dataset\\\\animals\\\\animals\\\\parrot', 'C:\\\\Users\\\\purin\\\\Desktop\\\\ImageClassifier-Animal\\\\ImageClassifier-Animal\\\\data\\\\animal_dataset\\\\animals\\\\animals\\\\pelecaniformes', 'C:\\\\Users\\\\purin\\\\Desktop\\\\ImageClassifier-Animal\\\\ImageClassifier-Animal\\\\data\\\\animal_dataset\\\\animals\\\\animals\\\\penguin', 'C:\\\\Users\\\\purin\\\\Desktop\\\\ImageClassifier-Animal\\\\ImageClassifier-Animal\\\\data\\\\animal_dataset\\\\animals\\\\animals\\\\pig', 'C:\\\\Users\\\\purin\\\\Desktop\\\\ImageClassifier-Animal\\\\ImageClassifier-Animal\\\\data\\\\animal_dataset\\\\animals\\\\animals\\\\pigeon', 'C:\\\\Users\\\\purin\\\\Desktop\\\\ImageClassifier-Animal\\\\ImageClassifier-Animal\\\\data\\\\animal_dataset\\\\animals\\\\animals\\\\porcupine', 'C:\\\\Users\\\\purin\\\\Desktop\\\\ImageClassifier-Animal\\\\ImageClassifier-Animal\\\\data\\\\animal_dataset\\\\animals\\\\animals\\\\possum', 'C:\\\\Users\\\\purin\\\\Desktop\\\\ImageClassifier-Animal\\\\ImageClassifier-Animal\\\\data\\\\animal_dataset\\\\animals\\\\animals\\\\raccoon', 'C:\\\\Users\\\\purin\\\\Desktop\\\\ImageClassifier-Animal\\\\ImageClassifier-Animal\\\\data\\\\animal_dataset\\\\animals\\\\animals\\\\rat', 'C:\\\\Users\\\\purin\\\\Desktop\\\\ImageClassifier-Animal\\\\ImageClassifier-Animal\\\\data\\\\animal_dataset\\\\animals\\\\animals\\\\reindeer', 'C:\\\\Users\\\\purin\\\\Desktop\\\\ImageClassifier-Animal\\\\ImageClassifier-Animal\\\\data\\\\animal_dataset\\\\animals\\\\animals\\\\rhinoceros', 'C:\\\\Users\\\\purin\\\\Desktop\\\\ImageClassifier-Animal\\\\ImageClassifier-Animal\\\\data\\\\animal_dataset\\\\animals\\\\animals\\\\sandpiper', 'C:\\\\Users\\\\purin\\\\Desktop\\\\ImageClassifier-Animal\\\\ImageClassifier-Animal\\\\data\\\\animal_dataset\\\\animals\\\\animals\\\\seahorse', 'C:\\\\Users\\\\purin\\\\Desktop\\\\ImageClassifier-Animal\\\\ImageClassifier-Animal\\\\data\\\\animal_dataset\\\\animals\\\\animals\\\\seal', 'C:\\\\Users\\\\purin\\\\Desktop\\\\ImageClassifier-Animal\\\\ImageClassifier-Animal\\\\data\\\\animal_dataset\\\\animals\\\\animals\\\\shark', 'C:\\\\Users\\\\purin\\\\Desktop\\\\ImageClassifier-Animal\\\\ImageClassifier-Animal\\\\data\\\\animal_dataset\\\\animals\\\\animals\\\\sheep', 'C:\\\\Users\\\\purin\\\\Desktop\\\\ImageClassifier-Animal\\\\ImageClassifier-Animal\\\\data\\\\animal_dataset\\\\animals\\\\animals\\\\snake', 'C:\\\\Users\\\\purin\\\\Desktop\\\\ImageClassifier-Animal\\\\ImageClassifier-Animal\\\\data\\\\animal_dataset\\\\animals\\\\animals\\\\sparrow', 'C:\\\\Users\\\\purin\\\\Desktop\\\\ImageClassifier-Animal\\\\ImageClassifier-Animal\\\\data\\\\animal_dataset\\\\animals\\\\animals\\\\squid', 'C:\\\\Users\\\\purin\\\\Desktop\\\\ImageClassifier-Animal\\\\ImageClassifier-Animal\\\\data\\\\animal_dataset\\\\animals\\\\animals\\\\squirrel', 'C:\\\\Users\\\\purin\\\\Desktop\\\\ImageClassifier-Animal\\\\ImageClassifier-Animal\\\\data\\\\animal_dataset\\\\animals\\\\animals\\\\starfish', 'C:\\\\Users\\\\purin\\\\Desktop\\\\ImageClassifier-Animal\\\\ImageClassifier-Animal\\\\data\\\\animal_dataset\\\\animals\\\\animals\\\\swan', 'C:\\\\Users\\\\purin\\\\Desktop\\\\ImageClassifier-Animal\\\\ImageClassifier-Animal\\\\data\\\\animal_dataset\\\\animals\\\\animals\\\\tiger', 'C:\\\\Users\\\\purin\\\\Desktop\\\\ImageClassifier-Animal\\\\ImageClassifier-Animal\\\\data\\\\animal_dataset\\\\animals\\\\animals\\\\turkey', 'C:\\\\Users\\\\purin\\\\Desktop\\\\ImageClassifier-Animal\\\\ImageClassifier-Animal\\\\data\\\\animal_dataset\\\\animals\\\\animals\\\\turtle', 'C:\\\\Users\\\\purin\\\\Desktop\\\\ImageClassifier-Animal\\\\ImageClassifier-Animal\\\\data\\\\animal_dataset\\\\animals\\\\animals\\\\whale', 'C:\\\\Users\\\\purin\\\\Desktop\\\\ImageClassifier-Animal\\\\ImageClassifier-Animal\\\\data\\\\animal_dataset\\\\animals\\\\animals\\\\wolf', 'C:\\\\Users\\\\purin\\\\Desktop\\\\ImageClassifier-Animal\\\\ImageClassifier-Animal\\\\data\\\\animal_dataset\\\\animals\\\\animals\\\\wombat', 'C:\\\\Users\\\\purin\\\\Desktop\\\\ImageClassifier-Animal\\\\ImageClassifier-Animal\\\\data\\\\animal_dataset\\\\animals\\\\animals\\\\woodpecker', 'C:\\\\Users\\\\purin\\\\Desktop\\\\ImageClassifier-Animal\\\\ImageClassifier-Animal\\\\data\\\\animal_dataset\\\\animals\\\\animals\\\\zebra']\n",
      "['C:\\\\Users\\\\purin\\\\Desktop\\\\ImageClassifier-Animal\\\\ImageClassifier-Animal\\\\data\\\\augmented_images\\\\antelope', 'C:\\\\Users\\\\purin\\\\Desktop\\\\ImageClassifier-Animal\\\\ImageClassifier-Animal\\\\data\\\\augmented_images\\\\badger', 'C:\\\\Users\\\\purin\\\\Desktop\\\\ImageClassifier-Animal\\\\ImageClassifier-Animal\\\\data\\\\augmented_images\\\\bat', 'C:\\\\Users\\\\purin\\\\Desktop\\\\ImageClassifier-Animal\\\\ImageClassifier-Animal\\\\data\\\\augmented_images\\\\bear', 'C:\\\\Users\\\\purin\\\\Desktop\\\\ImageClassifier-Animal\\\\ImageClassifier-Animal\\\\data\\\\augmented_images\\\\bee', 'C:\\\\Users\\\\purin\\\\Desktop\\\\ImageClassifier-Animal\\\\ImageClassifier-Animal\\\\data\\\\augmented_images\\\\beetle', 'C:\\\\Users\\\\purin\\\\Desktop\\\\ImageClassifier-Animal\\\\ImageClassifier-Animal\\\\data\\\\augmented_images\\\\bison', 'C:\\\\Users\\\\purin\\\\Desktop\\\\ImageClassifier-Animal\\\\ImageClassifier-Animal\\\\data\\\\augmented_images\\\\boar', 'C:\\\\Users\\\\purin\\\\Desktop\\\\ImageClassifier-Animal\\\\ImageClassifier-Animal\\\\data\\\\augmented_images\\\\butterfly', 'C:\\\\Users\\\\purin\\\\Desktop\\\\ImageClassifier-Animal\\\\ImageClassifier-Animal\\\\data\\\\augmented_images\\\\cat', 'C:\\\\Users\\\\purin\\\\Desktop\\\\ImageClassifier-Animal\\\\ImageClassifier-Animal\\\\data\\\\augmented_images\\\\caterpillar', 'C:\\\\Users\\\\purin\\\\Desktop\\\\ImageClassifier-Animal\\\\ImageClassifier-Animal\\\\data\\\\augmented_images\\\\chimpanzee', 'C:\\\\Users\\\\purin\\\\Desktop\\\\ImageClassifier-Animal\\\\ImageClassifier-Animal\\\\data\\\\augmented_images\\\\cockroach', 'C:\\\\Users\\\\purin\\\\Desktop\\\\ImageClassifier-Animal\\\\ImageClassifier-Animal\\\\data\\\\augmented_images\\\\cow', 'C:\\\\Users\\\\purin\\\\Desktop\\\\ImageClassifier-Animal\\\\ImageClassifier-Animal\\\\data\\\\augmented_images\\\\coyote', 'C:\\\\Users\\\\purin\\\\Desktop\\\\ImageClassifier-Animal\\\\ImageClassifier-Animal\\\\data\\\\augmented_images\\\\crab', 'C:\\\\Users\\\\purin\\\\Desktop\\\\ImageClassifier-Animal\\\\ImageClassifier-Animal\\\\data\\\\augmented_images\\\\crow', 'C:\\\\Users\\\\purin\\\\Desktop\\\\ImageClassifier-Animal\\\\ImageClassifier-Animal\\\\data\\\\augmented_images\\\\deer', 'C:\\\\Users\\\\purin\\\\Desktop\\\\ImageClassifier-Animal\\\\ImageClassifier-Animal\\\\data\\\\augmented_images\\\\dog', 'C:\\\\Users\\\\purin\\\\Desktop\\\\ImageClassifier-Animal\\\\ImageClassifier-Animal\\\\data\\\\augmented_images\\\\dolphin', 'C:\\\\Users\\\\purin\\\\Desktop\\\\ImageClassifier-Animal\\\\ImageClassifier-Animal\\\\data\\\\augmented_images\\\\donkey', 'C:\\\\Users\\\\purin\\\\Desktop\\\\ImageClassifier-Animal\\\\ImageClassifier-Animal\\\\data\\\\augmented_images\\\\dragonfly', 'C:\\\\Users\\\\purin\\\\Desktop\\\\ImageClassifier-Animal\\\\ImageClassifier-Animal\\\\data\\\\augmented_images\\\\duck', 'C:\\\\Users\\\\purin\\\\Desktop\\\\ImageClassifier-Animal\\\\ImageClassifier-Animal\\\\data\\\\augmented_images\\\\eagle', 'C:\\\\Users\\\\purin\\\\Desktop\\\\ImageClassifier-Animal\\\\ImageClassifier-Animal\\\\data\\\\augmented_images\\\\elephant', 'C:\\\\Users\\\\purin\\\\Desktop\\\\ImageClassifier-Animal\\\\ImageClassifier-Animal\\\\data\\\\augmented_images\\\\flamingo', 'C:\\\\Users\\\\purin\\\\Desktop\\\\ImageClassifier-Animal\\\\ImageClassifier-Animal\\\\data\\\\augmented_images\\\\fly', 'C:\\\\Users\\\\purin\\\\Desktop\\\\ImageClassifier-Animal\\\\ImageClassifier-Animal\\\\data\\\\augmented_images\\\\fox', 'C:\\\\Users\\\\purin\\\\Desktop\\\\ImageClassifier-Animal\\\\ImageClassifier-Animal\\\\data\\\\augmented_images\\\\goat', 'C:\\\\Users\\\\purin\\\\Desktop\\\\ImageClassifier-Animal\\\\ImageClassifier-Animal\\\\data\\\\augmented_images\\\\goldfish', 'C:\\\\Users\\\\purin\\\\Desktop\\\\ImageClassifier-Animal\\\\ImageClassifier-Animal\\\\data\\\\augmented_images\\\\goose', 'C:\\\\Users\\\\purin\\\\Desktop\\\\ImageClassifier-Animal\\\\ImageClassifier-Animal\\\\data\\\\augmented_images\\\\gorilla', 'C:\\\\Users\\\\purin\\\\Desktop\\\\ImageClassifier-Animal\\\\ImageClassifier-Animal\\\\data\\\\augmented_images\\\\grasshopper', 'C:\\\\Users\\\\purin\\\\Desktop\\\\ImageClassifier-Animal\\\\ImageClassifier-Animal\\\\data\\\\augmented_images\\\\hamster', 'C:\\\\Users\\\\purin\\\\Desktop\\\\ImageClassifier-Animal\\\\ImageClassifier-Animal\\\\data\\\\augmented_images\\\\hare', 'C:\\\\Users\\\\purin\\\\Desktop\\\\ImageClassifier-Animal\\\\ImageClassifier-Animal\\\\data\\\\augmented_images\\\\hedgehog', 'C:\\\\Users\\\\purin\\\\Desktop\\\\ImageClassifier-Animal\\\\ImageClassifier-Animal\\\\data\\\\augmented_images\\\\hippopotamus', 'C:\\\\Users\\\\purin\\\\Desktop\\\\ImageClassifier-Animal\\\\ImageClassifier-Animal\\\\data\\\\augmented_images\\\\hornbill', 'C:\\\\Users\\\\purin\\\\Desktop\\\\ImageClassifier-Animal\\\\ImageClassifier-Animal\\\\data\\\\augmented_images\\\\horse', 'C:\\\\Users\\\\purin\\\\Desktop\\\\ImageClassifier-Animal\\\\ImageClassifier-Animal\\\\data\\\\augmented_images\\\\hummingbird', 'C:\\\\Users\\\\purin\\\\Desktop\\\\ImageClassifier-Animal\\\\ImageClassifier-Animal\\\\data\\\\augmented_images\\\\hyena', 'C:\\\\Users\\\\purin\\\\Desktop\\\\ImageClassifier-Animal\\\\ImageClassifier-Animal\\\\data\\\\augmented_images\\\\jellyfish', 'C:\\\\Users\\\\purin\\\\Desktop\\\\ImageClassifier-Animal\\\\ImageClassifier-Animal\\\\data\\\\augmented_images\\\\kangaroo', 'C:\\\\Users\\\\purin\\\\Desktop\\\\ImageClassifier-Animal\\\\ImageClassifier-Animal\\\\data\\\\augmented_images\\\\koala', 'C:\\\\Users\\\\purin\\\\Desktop\\\\ImageClassifier-Animal\\\\ImageClassifier-Animal\\\\data\\\\augmented_images\\\\ladybugs', 'C:\\\\Users\\\\purin\\\\Desktop\\\\ImageClassifier-Animal\\\\ImageClassifier-Animal\\\\data\\\\augmented_images\\\\leopard', 'C:\\\\Users\\\\purin\\\\Desktop\\\\ImageClassifier-Animal\\\\ImageClassifier-Animal\\\\data\\\\augmented_images\\\\lion', 'C:\\\\Users\\\\purin\\\\Desktop\\\\ImageClassifier-Animal\\\\ImageClassifier-Animal\\\\data\\\\augmented_images\\\\lizard', 'C:\\\\Users\\\\purin\\\\Desktop\\\\ImageClassifier-Animal\\\\ImageClassifier-Animal\\\\data\\\\augmented_images\\\\lobster', 'C:\\\\Users\\\\purin\\\\Desktop\\\\ImageClassifier-Animal\\\\ImageClassifier-Animal\\\\data\\\\augmented_images\\\\mosquito', 'C:\\\\Users\\\\purin\\\\Desktop\\\\ImageClassifier-Animal\\\\ImageClassifier-Animal\\\\data\\\\augmented_images\\\\moth', 'C:\\\\Users\\\\purin\\\\Desktop\\\\ImageClassifier-Animal\\\\ImageClassifier-Animal\\\\data\\\\augmented_images\\\\mouse', 'C:\\\\Users\\\\purin\\\\Desktop\\\\ImageClassifier-Animal\\\\ImageClassifier-Animal\\\\data\\\\augmented_images\\\\octopus', 'C:\\\\Users\\\\purin\\\\Desktop\\\\ImageClassifier-Animal\\\\ImageClassifier-Animal\\\\data\\\\augmented_images\\\\okapi', 'C:\\\\Users\\\\purin\\\\Desktop\\\\ImageClassifier-Animal\\\\ImageClassifier-Animal\\\\data\\\\augmented_images\\\\orangutan', 'C:\\\\Users\\\\purin\\\\Desktop\\\\ImageClassifier-Animal\\\\ImageClassifier-Animal\\\\data\\\\augmented_images\\\\otter', 'C:\\\\Users\\\\purin\\\\Desktop\\\\ImageClassifier-Animal\\\\ImageClassifier-Animal\\\\data\\\\augmented_images\\\\owl', 'C:\\\\Users\\\\purin\\\\Desktop\\\\ImageClassifier-Animal\\\\ImageClassifier-Animal\\\\data\\\\augmented_images\\\\ox', 'C:\\\\Users\\\\purin\\\\Desktop\\\\ImageClassifier-Animal\\\\ImageClassifier-Animal\\\\data\\\\augmented_images\\\\oyster', 'C:\\\\Users\\\\purin\\\\Desktop\\\\ImageClassifier-Animal\\\\ImageClassifier-Animal\\\\data\\\\augmented_images\\\\panda', 'C:\\\\Users\\\\purin\\\\Desktop\\\\ImageClassifier-Animal\\\\ImageClassifier-Animal\\\\data\\\\augmented_images\\\\parrot', 'C:\\\\Users\\\\purin\\\\Desktop\\\\ImageClassifier-Animal\\\\ImageClassifier-Animal\\\\data\\\\augmented_images\\\\pelecaniformes', 'C:\\\\Users\\\\purin\\\\Desktop\\\\ImageClassifier-Animal\\\\ImageClassifier-Animal\\\\data\\\\augmented_images\\\\penguin', 'C:\\\\Users\\\\purin\\\\Desktop\\\\ImageClassifier-Animal\\\\ImageClassifier-Animal\\\\data\\\\augmented_images\\\\pig', 'C:\\\\Users\\\\purin\\\\Desktop\\\\ImageClassifier-Animal\\\\ImageClassifier-Animal\\\\data\\\\augmented_images\\\\pigeon', 'C:\\\\Users\\\\purin\\\\Desktop\\\\ImageClassifier-Animal\\\\ImageClassifier-Animal\\\\data\\\\augmented_images\\\\porcupine', 'C:\\\\Users\\\\purin\\\\Desktop\\\\ImageClassifier-Animal\\\\ImageClassifier-Animal\\\\data\\\\augmented_images\\\\possum', 'C:\\\\Users\\\\purin\\\\Desktop\\\\ImageClassifier-Animal\\\\ImageClassifier-Animal\\\\data\\\\augmented_images\\\\raccoon', 'C:\\\\Users\\\\purin\\\\Desktop\\\\ImageClassifier-Animal\\\\ImageClassifier-Animal\\\\data\\\\augmented_images\\\\rat', 'C:\\\\Users\\\\purin\\\\Desktop\\\\ImageClassifier-Animal\\\\ImageClassifier-Animal\\\\data\\\\augmented_images\\\\reindeer', 'C:\\\\Users\\\\purin\\\\Desktop\\\\ImageClassifier-Animal\\\\ImageClassifier-Animal\\\\data\\\\augmented_images\\\\rhinoceros', 'C:\\\\Users\\\\purin\\\\Desktop\\\\ImageClassifier-Animal\\\\ImageClassifier-Animal\\\\data\\\\augmented_images\\\\sandpiper', 'C:\\\\Users\\\\purin\\\\Desktop\\\\ImageClassifier-Animal\\\\ImageClassifier-Animal\\\\data\\\\augmented_images\\\\seahorse', 'C:\\\\Users\\\\purin\\\\Desktop\\\\ImageClassifier-Animal\\\\ImageClassifier-Animal\\\\data\\\\augmented_images\\\\seal', 'C:\\\\Users\\\\purin\\\\Desktop\\\\ImageClassifier-Animal\\\\ImageClassifier-Animal\\\\data\\\\augmented_images\\\\shark', 'C:\\\\Users\\\\purin\\\\Desktop\\\\ImageClassifier-Animal\\\\ImageClassifier-Animal\\\\data\\\\augmented_images\\\\sheep', 'C:\\\\Users\\\\purin\\\\Desktop\\\\ImageClassifier-Animal\\\\ImageClassifier-Animal\\\\data\\\\augmented_images\\\\snake', 'C:\\\\Users\\\\purin\\\\Desktop\\\\ImageClassifier-Animal\\\\ImageClassifier-Animal\\\\data\\\\augmented_images\\\\sparrow', 'C:\\\\Users\\\\purin\\\\Desktop\\\\ImageClassifier-Animal\\\\ImageClassifier-Animal\\\\data\\\\augmented_images\\\\squid', 'C:\\\\Users\\\\purin\\\\Desktop\\\\ImageClassifier-Animal\\\\ImageClassifier-Animal\\\\data\\\\augmented_images\\\\squirrel', 'C:\\\\Users\\\\purin\\\\Desktop\\\\ImageClassifier-Animal\\\\ImageClassifier-Animal\\\\data\\\\augmented_images\\\\starfish', 'C:\\\\Users\\\\purin\\\\Desktop\\\\ImageClassifier-Animal\\\\ImageClassifier-Animal\\\\data\\\\augmented_images\\\\swan', 'C:\\\\Users\\\\purin\\\\Desktop\\\\ImageClassifier-Animal\\\\ImageClassifier-Animal\\\\data\\\\augmented_images\\\\tiger', 'C:\\\\Users\\\\purin\\\\Desktop\\\\ImageClassifier-Animal\\\\ImageClassifier-Animal\\\\data\\\\augmented_images\\\\turkey', 'C:\\\\Users\\\\purin\\\\Desktop\\\\ImageClassifier-Animal\\\\ImageClassifier-Animal\\\\data\\\\augmented_images\\\\turtle', 'C:\\\\Users\\\\purin\\\\Desktop\\\\ImageClassifier-Animal\\\\ImageClassifier-Animal\\\\data\\\\augmented_images\\\\whale', 'C:\\\\Users\\\\purin\\\\Desktop\\\\ImageClassifier-Animal\\\\ImageClassifier-Animal\\\\data\\\\augmented_images\\\\wolf', 'C:\\\\Users\\\\purin\\\\Desktop\\\\ImageClassifier-Animal\\\\ImageClassifier-Animal\\\\data\\\\augmented_images\\\\wombat', 'C:\\\\Users\\\\purin\\\\Desktop\\\\ImageClassifier-Animal\\\\ImageClassifier-Animal\\\\data\\\\augmented_images\\\\woodpecker', 'C:\\\\Users\\\\purin\\\\Desktop\\\\ImageClassifier-Animal\\\\ImageClassifier-Animal\\\\data\\\\augmented_images\\\\zebra']\n"
     ]
    }
   ],
   "source": [
    "ori_dir = r'C:\\Users\\purin\\Desktop\\ImageClassifier-Animal\\ImageClassifier-Animal\\data\\animal_dataset\\animals\\animals'\n",
    "aug_dir = r'C:\\Users\\purin\\Desktop\\ImageClassifier-Animal\\ImageClassifier-Animal\\data\\augmented_images'\n",
    "all_images = []\n",
    "for ori in os.listdir(ori_dir):\n",
    "    animal_original_path = os.path.join(ori_dir, ori)\n",
    "    original_images = [os.path.join(animal_original_path, img) for img in os.listdir(animal_original_path)]\n",
    "    all_images.append(original_images)\n",
    "    for aug in os.listdir(aug_dir):\n",
    "        if aug == ori :\n",
    "            animal_augmented_path = os.path.join(aug_dir, aug)\n",
    "            augmented_images = [os.path.join(animal_augmented_path, img) for img in os.listdir(animal_augmented_path)]\n",
    "            all_images = original_images + augmented_images\n",
    "\n"
   ]
  },
  {
   "cell_type": "code",
   "execution_count": null,
   "metadata": {},
   "outputs": [],
   "source": [
    "def train_test_validate(original_images_base_path: str, augmented_images_base_path: str, animals: List[str]) -> Tuple[List[str], List[str], List[str]]:\n",
    "    all_images = []\n",
    "\n",
    "    # Loop through each animal type and gather images from both original and augmented directories\n",
    "    for animal in animals:\n",
    "        original_images_path = os.path.join(original_images_base_path, animal)\n",
    "        augmented_images_path = os.path.join(augmented_images_base_path, animal)\n",
    "\n",
    "        # Use glob to collect all images of this type of animal from both directories\n",
    "        original_images = glob.glob(os.path.join(original_images_path, '*.jpg'))  # Adjust the pattern if needed\n",
    "        augmented_images = glob.glob(os.path.join(augmented_images_path, '*.jpeg'))  # Adjust the pattern if needed\n",
    "\n",
    "        all_images.extend(original_images)\n",
    "        all_images.extend(augmented_images)\n",
    "\n",
    "    # Splitting the dataset into training, validation, and test sets\n",
    "    train_val_images, test_images = train_test_split(all_images, test_size=0.2, random_state=42)  # 20% for testing\n",
    "    train_images, val_images = train_test_split(train_val_images, test_size=0.125, random_state=42)  # 12.5% of 80% = 10% for validation\n",
    "\n",
    "    print(f\"Total images: {len(all_images)}\")\n",
    "    print(f\"Training set size: {len(train_images)}\")\n",
    "    print(f\"Validation set size: {len(val_images)}\")\n",
    "    print(f\"Test set size: {len(test_images)}\")\n",
    "\n",
    "    return train_images, val_images, test_images"
   ]
  },
  {
   "cell_type": "code",
   "execution_count": 3,
   "metadata": {},
   "outputs": [],
   "source": [
    "def create_model(input_shape):\n",
    "    model = Sequential([\n",
    "        Conv2D(32, (3, 3), activation='relu', input_shape=input_shape),\n",
    "        MaxPooling2D(2, 2),\n",
    "        Conv2D(64, (3, 3), activation='relu'),\n",
    "        MaxPooling2D(2, 2),\n",
    "        Conv2D(128, (3, 3), activation='relu'),\n",
    "        MaxPooling2D(2, 2),\n",
    "        Flatten(),\n",
    "        Dense(512, activation='relu'),\n",
    "        Dropout(0.5),\n",
    "        Dense(1, activation='softmax')  # Use 'softmax' for multi-class classification\n",
    "    ])\n",
    "    return model"
   ]
  },
  {
   "cell_type": "code",
   "execution_count": 4,
   "metadata": {},
   "outputs": [],
   "source": [
    "def compile_and_train(model, train_generator, validation_generator, epochs=10):\n",
    "    model.compile(optimizer='adam',\n",
    "                  loss='categorical_crossentropy',  # Use 'categorical_crossentropy' for multi-class classification\n",
    "                  metrics=['accuracy'])\n",
    "    history = model.fit(\n",
    "        train_generator,\n",
    "        steps_per_epoch=train_generator.n // train_generator.batch_size,\n",
    "        epochs=epochs,\n",
    "        validation_data=validation_generator,\n",
    "        validation_steps=validation_generator.n // validation_generator.batch_size\n",
    "    )\n",
    "    return history"
   ]
  },
  {
   "cell_type": "code",
   "execution_count": null,
   "metadata": {},
   "outputs": [],
   "source": [
    "def save_text(output_directory,image_list) :\n",
    "    with open(output_directory, 'w') as file :\n",
    "        for item in image_list:\n",
    "            file.write('%s\\n' % item)"
   ]
  },
  {
   "cell_type": "code",
   "execution_count": null,
   "metadata": {},
   "outputs": [],
   "source": [
    "train_df = pd.DataFrame({\n",
    "        'filename': train_images,\n",
    "        'class': [os.path.basename(os.path.dirname(x)) for x in train_images] \n",
    "    })"
   ]
  },
  {
   "cell_type": "code",
   "execution_count": 5,
   "metadata": {},
   "outputs": [],
   "source": [
    "def main(original_images_directory, augmented_images_directory, train_test_valid_directory):\n",
    "    animals = [\n",
    "    \"antelope\", \"badger\", \"bat\", \"bear\", \"bee\", \"beetle\", \"bison\", \"boar\", \"butterfly\",\n",
    "    \"cat\", \"caterpillar\", \"chimpanzee\", \"cockroach\", \"cow\", \"coyote\", \"crab\", \"crow\", \"deer\",\n",
    "    \"dog\", \"dolphin\", \"donkey\", \"dragonfly\", \"duck\", \"eagle\", \"elephant\", \"flamingo\", \"fly\",\n",
    "    \"fox\", \"goat\", \"goldfish\", \"goose\", \"gorilla\", \"grasshopper\", \"hamster\", \"hare\", \"hedgehog\",\n",
    "    \"hippopotamus\", \"hornbill\", \"horse\", \"hummingbird\", \"hyena\", \"jellyfish\", \"kangaroo\",\n",
    "    \"koala\", \"ladybugs\", \"leopard\", \"lion\", \"lizard\", \"lobster\", \"mosquito\", \"moth\", \"mouse\",\n",
    "    \"octopus\", \"okapi\", \"orangutan\", \"otter\", \"owl\", \"ox\", \"oyster\", \"panda\", \"parrot\",\n",
    "    \"pelecaniformes\", \"penguin\", \"pig\", \"pigeon\", \"porcupine\", \"possum\", \"raccoon\", \"rat\",\n",
    "    \"reindeer\", \"rhinoceros\", \"sandpiper\", \"seahorse\", \"seal\", \"shark\", \"sheep\", \"snake\",\n",
    "    \"sparrow\", \"squid\", \"squirrel\", \"starfish\", \"swan\", \"tiger\", \"turkey\", \"turtle\", \"whale\",\n",
    "    \"wolf\", \"wombat\", \"woodpecker\", \"zebra\"\n",
    "    ]\n",
    "    # Split the dataset into training, testing, and validation sets\n",
    "    train_images, test_images, val_images = train_test_validate(original_images_directory, augmented_images_directory, animals)\n",
    "    train_images, val_images = shuffle(train_images), shuffle(val_images)\n",
    "    \n",
    "    #save test images\n",
    "    train_text_path = os.path.join(train_test_valid_directory, 'train.txt')\n",
    "    test_text_path = os.path.join(train_test_valid_directory, 'test.txt')\n",
    "    validate_text_path = os.path.join(train_test_valid_directory, 'validate.txt')\n",
    "    save_text(train_text_path,train_images)\n",
    "    save_text(test_text_path,test_images)\n",
    "    save_text(validate_text_path,val_images)\n",
    "    \n",
    "    # Create a DataFrame for the training and validation images\n",
    "    train_df = pd.DataFrame({\n",
    "        'filename': train_images,\n",
    "        'class': [os.path.basename(os.path.dirname(x)) for x in train_images] \n",
    "    })\n",
    "    val_df = pd.DataFrame({\n",
    "        'filename': val_images,\n",
    "        'class': [os.path.basename(os.path.dirname(x)) for x in val_images]\n",
    "    })\n",
    "\n",
    "    # Create ImageDataGenerator objects for training and validation\n",
    "    train_datagen = ImageDataGenerator(rescale=1./255)\n",
    "    validation_datagen = ImageDataGenerator(rescale=1./255)\n",
    "    \n",
    "    # Create generators using flow_from_dataframe\n",
    "    train_generator = train_datagen.flow_from_dataframe(\n",
    "        dataframe=train_df,\n",
    "        x_col='filename',\n",
    "        y_col='class',\n",
    "        target_size=(224, 224),\n",
    "        batch_size=32,\n",
    "        class_mode='binary'  # Use 'categorical' for multi-class classification\n",
    "    )\n",
    "\n",
    "    validation_generator = validation_datagen.flow_from_dataframe(\n",
    "        dataframe=val_df,\n",
    "        x_col='filename',\n",
    "        y_col='class',\n",
    "        target_size=(224, 224),\n",
    "        batch_size=32,\n",
    "        class_mode='binary'  # Use 'categorical' for multi-class classification\n",
    "    )\n",
    "    \n",
    "    # Create the model\n",
    "    model = create_model((224, 224, 3))\n",
    "    \n",
    "    # Train the model\n",
    "    history = compile_and_train(model, train_generator, validation_generator, epochs=10)\n",
    "    \n",
    "    # Save the model\n",
    "    model.save('animal_classifier_model.h5')\n",
    "\n",
    "    # Optionally print out training and validation accuracy per epoch\n",
    "    print(history.history['accuracy'])\n",
    "    print(history.history['val_accuracy'])"
   ]
  },
  {
   "cell_type": "code",
   "execution_count": 6,
   "metadata": {},
   "outputs": [
    {
     "name": "stdout",
     "output_type": "stream",
     "text": [
      "Total images: 1260\n",
      "Training set size: 882\n",
      "Validation set size: 126\n",
      "Test set size: 252\n",
      "Found 882 validated image filenames belonging to 2 classes.\n",
      "Found 126 validated image filenames belonging to 2 classes.\n",
      "WARNING:tensorflow:From c:\\Users\\purin\\AppData\\Local\\Programs\\Python\\Python310\\lib\\site-packages\\keras\\src\\backend.py:873: The name tf.get_default_graph is deprecated. Please use tf.compat.v1.get_default_graph instead.\n",
      "\n",
      "WARNING:tensorflow:From c:\\Users\\purin\\AppData\\Local\\Programs\\Python\\Python310\\lib\\site-packages\\keras\\src\\layers\\pooling\\max_pooling2d.py:161: The name tf.nn.max_pool is deprecated. Please use tf.nn.max_pool2d instead.\n",
      "\n",
      "WARNING:tensorflow:From c:\\Users\\purin\\AppData\\Local\\Programs\\Python\\Python310\\lib\\site-packages\\keras\\src\\optimizers\\__init__.py:309: The name tf.train.Optimizer is deprecated. Please use tf.compat.v1.train.Optimizer instead.\n",
      "\n",
      "Epoch 1/10\n",
      "WARNING:tensorflow:From c:\\Users\\purin\\AppData\\Local\\Programs\\Python\\Python310\\lib\\site-packages\\keras\\src\\utils\\tf_utils.py:492: The name tf.ragged.RaggedTensorValue is deprecated. Please use tf.compat.v1.ragged.RaggedTensorValue instead.\n",
      "\n",
      "WARNING:tensorflow:From c:\\Users\\purin\\AppData\\Local\\Programs\\Python\\Python310\\lib\\site-packages\\keras\\src\\engine\\base_layer_utils.py:384: The name tf.executing_eagerly_outside_functions is deprecated. Please use tf.compat.v1.executing_eagerly_outside_functions instead.\n",
      "\n",
      "27/27 [==============================] - 43s 2s/step - loss: 0.4412 - accuracy: 0.9447 - val_loss: 0.2971 - val_accuracy: 0.9167\n",
      "Epoch 2/10\n",
      "27/27 [==============================] - 34s 1s/step - loss: 0.2231 - accuracy: 0.9541 - val_loss: 0.3206 - val_accuracy: 0.9167\n",
      "Epoch 3/10\n",
      "27/27 [==============================] - 34s 1s/step - loss: 0.2002 - accuracy: 0.9541 - val_loss: 0.2429 - val_accuracy: 0.9375\n",
      "Epoch 4/10\n",
      "27/27 [==============================] - 34s 1s/step - loss: 0.2148 - accuracy: 0.9541 - val_loss: 0.2973 - val_accuracy: 0.9375\n",
      "Epoch 5/10\n",
      "27/27 [==============================] - 34s 1s/step - loss: 0.2350 - accuracy: 0.9565 - val_loss: 0.2984 - val_accuracy: 0.9271\n",
      "Epoch 6/10\n",
      "27/27 [==============================] - 34s 1s/step - loss: 0.2040 - accuracy: 0.9553 - val_loss: 0.2431 - val_accuracy: 0.9479\n",
      "Epoch 7/10\n",
      "27/27 [==============================] - 34s 1s/step - loss: 0.2091 - accuracy: 0.9541 - val_loss: 0.3995 - val_accuracy: 0.9375\n",
      "Epoch 8/10\n",
      "27/27 [==============================] - 34s 1s/step - loss: 0.1838 - accuracy: 0.9576 - val_loss: 0.3521 - val_accuracy: 0.9375\n",
      "Epoch 9/10\n",
      "27/27 [==============================] - 34s 1s/step - loss: 0.1787 - accuracy: 0.9541 - val_loss: 0.5724 - val_accuracy: 0.9375\n",
      "Epoch 10/10\n",
      "27/27 [==============================] - 34s 1s/step - loss: 0.1332 - accuracy: 0.9576 - val_loss: 0.4748 - val_accuracy: 0.9062\n"
     ]
    },
    {
     "name": "stderr",
     "output_type": "stream",
     "text": [
      "c:\\Users\\purin\\AppData\\Local\\Programs\\Python\\Python310\\lib\\site-packages\\keras\\src\\engine\\training.py:3103: UserWarning: You are saving your model as an HDF5 file via `model.save()`. This file format is considered legacy. We recommend using instead the native Keras format, e.g. `model.save('my_model.keras')`.\n",
      "  saving_api.save_model(\n"
     ]
    },
    {
     "name": "stdout",
     "output_type": "stream",
     "text": [
      "[0.9447059035301208, 0.9541176557540894, 0.9541176557540894, 0.9541176557540894, 0.9564706087112427, 0.955294132232666, 0.9541176557540894, 0.9576470851898193, 0.9541176557540894, 0.9576470851898193]\n",
      "[0.9166666865348816, 0.9166666865348816, 0.9375, 0.9375, 0.9270833134651184, 0.9479166865348816, 0.9375, 0.9375, 0.9375, 0.90625]\n"
     ]
    }
   ],
   "source": [
    "if __name__ == \"__main__\":\n",
    "    main(\n",
    "        r'C:\\Users\\purin\\Desktop\\ImageClassifier-Animal\\ImageClassifier-Animal\\data\\animal_dataset\\animals\\animals\\antelope',\n",
    "        r'C:\\Users\\purin\\Desktop\\ImageClassifier-Animal\\ImageClassifier-Animal\\data\\augmented_images'\n",
    "    )"
   ]
  }
 ],
 "metadata": {
  "kernelspec": {
   "display_name": "Python 3",
   "language": "python",
   "name": "python3"
  },
  "language_info": {
   "codemirror_mode": {
    "name": "ipython",
    "version": 3
   },
   "file_extension": ".py",
   "mimetype": "text/x-python",
   "name": "python",
   "nbconvert_exporter": "python",
   "pygments_lexer": "ipython3",
   "version": "3.10.6"
  }
 },
 "nbformat": 4,
 "nbformat_minor": 2
}
